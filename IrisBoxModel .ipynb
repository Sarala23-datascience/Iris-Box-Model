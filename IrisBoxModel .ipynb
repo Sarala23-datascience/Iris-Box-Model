{
 "cells": [
  {
   "cell_type": "code",
   "execution_count": 1,
   "id": "79cd147d",
   "metadata": {},
   "outputs": [
    {
     "name": "stdout",
     "output_type": "stream",
     "text": [
      "     sepal_length  sepal_width  petal_length  petal_width    species\n",
      "0             5.1          3.5           1.4          0.2     setosa\n",
      "1             4.9          3.0           1.4          0.2     setosa\n",
      "2             4.7          3.2           1.3          0.2     setosa\n",
      "3             4.6          3.1           1.5          0.2     setosa\n",
      "4             5.0          3.6           1.4          0.2     setosa\n",
      "..            ...          ...           ...          ...        ...\n",
      "145           6.7          3.0           5.2          2.3  virginica\n",
      "146           6.3          2.5           5.0          1.9  virginica\n",
      "147           6.5          3.0           5.2          2.0  virginica\n",
      "148           6.2          3.4           5.4          2.3  virginica\n",
      "149           5.9          3.0           5.1          1.8  virginica\n",
      "\n",
      "[150 rows x 5 columns]\n"
     ]
    }
   ],
   "source": [
    "import pandas as pd\n",
    "df=pd.read_csv(\"C:\\\\Users\\\\saral\\\\OneDrive\\\\Desktop\\\\Projects\\\\Iris Box Model\\\\archive.zip\")\n",
    "print(df)"
   ]
  },
  {
   "cell_type": "code",
   "execution_count": 2,
   "id": "5bf1fea3",
   "metadata": {},
   "outputs": [
    {
     "name": "stdout",
     "output_type": "stream",
     "text": [
      "<bound method NDFrame.describe of      sepal_length  sepal_width  petal_length  petal_width    species\n",
      "0             5.1          3.5           1.4          0.2     setosa\n",
      "1             4.9          3.0           1.4          0.2     setosa\n",
      "2             4.7          3.2           1.3          0.2     setosa\n",
      "3             4.6          3.1           1.5          0.2     setosa\n",
      "4             5.0          3.6           1.4          0.2     setosa\n",
      "..            ...          ...           ...          ...        ...\n",
      "145           6.7          3.0           5.2          2.3  virginica\n",
      "146           6.3          2.5           5.0          1.9  virginica\n",
      "147           6.5          3.0           5.2          2.0  virginica\n",
      "148           6.2          3.4           5.4          2.3  virginica\n",
      "149           5.9          3.0           5.1          1.8  virginica\n",
      "\n",
      "[150 rows x 5 columns]>\n"
     ]
    }
   ],
   "source": [
    "print(df.describe)"
   ]
  },
  {
   "cell_type": "code",
   "execution_count": 3,
   "id": "bde5f76e",
   "metadata": {},
   "outputs": [
    {
     "name": "stdout",
     "output_type": "stream",
     "text": [
      "<bound method DataFrame.info of      sepal_length  sepal_width  petal_length  petal_width    species\n",
      "0             5.1          3.5           1.4          0.2     setosa\n",
      "1             4.9          3.0           1.4          0.2     setosa\n",
      "2             4.7          3.2           1.3          0.2     setosa\n",
      "3             4.6          3.1           1.5          0.2     setosa\n",
      "4             5.0          3.6           1.4          0.2     setosa\n",
      "..            ...          ...           ...          ...        ...\n",
      "145           6.7          3.0           5.2          2.3  virginica\n",
      "146           6.3          2.5           5.0          1.9  virginica\n",
      "147           6.5          3.0           5.2          2.0  virginica\n",
      "148           6.2          3.4           5.4          2.3  virginica\n",
      "149           5.9          3.0           5.1          1.8  virginica\n",
      "\n",
      "[150 rows x 5 columns]>\n"
     ]
    }
   ],
   "source": [
    "print(df.info)"
   ]
  },
  {
   "cell_type": "code",
   "execution_count": 4,
   "id": "2f5314f7",
   "metadata": {},
   "outputs": [
    {
     "name": "stdout",
     "output_type": "stream",
     "text": [
      "RangeIndex(start=0, stop=150, step=1)\n"
     ]
    }
   ],
   "source": [
    "print(df.index)"
   ]
  },
  {
   "cell_type": "code",
   "execution_count": 5,
   "id": "da004f44",
   "metadata": {},
   "outputs": [
    {
     "name": "stdout",
     "output_type": "stream",
     "text": [
      "Index(['sepal_length', 'sepal_width', 'petal_length', 'petal_width',\n",
      "       'species'],\n",
      "      dtype='object')\n"
     ]
    }
   ],
   "source": [
    "print(df.columns)"
   ]
  },
  {
   "cell_type": "code",
   "execution_count": 6,
   "id": "140ee6b1",
   "metadata": {},
   "outputs": [
    {
     "name": "stdout",
     "output_type": "stream",
     "text": [
      "1    4.9\n",
      "2    4.7\n",
      "3    4.6\n",
      "4    5.0\n",
      "5    5.4\n",
      "Name: sepal_length, dtype: float64\n"
     ]
    }
   ],
   "source": [
    "print(df.loc[1:5,'sepal_length'])"
   ]
  },
  {
   "cell_type": "code",
   "execution_count": 7,
   "id": "aaa3d054",
   "metadata": {},
   "outputs": [
    {
     "name": "stdout",
     "output_type": "stream",
     "text": [
      "1      1.4\n",
      "2      1.3\n",
      "3      1.5\n",
      "4      1.4\n",
      "5      1.7\n",
      "      ... \n",
      "96     4.2\n",
      "97     4.3\n",
      "98     3.0\n",
      "99     4.1\n",
      "100    6.0\n",
      "Name: petal_length, Length: 100, dtype: float64\n"
     ]
    }
   ],
   "source": [
    "print(df.loc[1:100,'petal_length'])# in loc it treats column as string"
   ]
  },
  {
   "cell_type": "code",
   "execution_count": 8,
   "id": "e735cfad",
   "metadata": {},
   "outputs": [
    {
     "name": "stdout",
     "output_type": "stream",
     "text": [
      "   sepal_width  petal_length  petal_width species\n",
      "1          3.0           1.4          0.2  setosa\n",
      "2          3.2           1.3          0.2  setosa\n",
      "3          3.1           1.5          0.2  setosa\n"
     ]
    }
   ],
   "source": [
    "print(df.iloc[1:4,1:5])# in iloc it treats the column as integer"
   ]
  },
  {
   "cell_type": "code",
   "execution_count": 9,
   "id": "308428dc",
   "metadata": {},
   "outputs": [
    {
     "name": "stdout",
     "output_type": "stream",
     "text": [
      "sepal_length    5.843333\n",
      "sepal_width     3.054000\n",
      "petal_length    3.758667\n",
      "petal_width     1.198667\n",
      "dtype: float64\n"
     ]
    }
   ],
   "source": [
    "print(df[['sepal_length','sepal_width','petal_length','petal_width']].mean())"
   ]
  },
  {
   "cell_type": "code",
   "execution_count": 10,
   "id": "e1e46e5a",
   "metadata": {},
   "outputs": [
    {
     "name": "stdout",
     "output_type": "stream",
     "text": [
      "Empty DataFrame\n",
      "Columns: [sepal_length, sepal_width, petal_length, petal_width, species]\n",
      "Index: []\n"
     ]
    }
   ],
   "source": [
    "print(df[df.isnull().any(axis=1)])"
   ]
  },
  {
   "cell_type": "code",
   "execution_count": 11,
   "id": "05ba9a80",
   "metadata": {},
   "outputs": [],
   "source": [
    "# Conclusion: There are no missing values"
   ]
  },
  {
   "cell_type": "code",
   "execution_count": 4,
   "id": "3a84bac5",
   "metadata": {},
   "outputs": [
    {
     "name": "stdout",
     "output_type": "stream",
     "text": [
      "enter the length:1\n",
      "enter the width:2\n",
      "enter the height:3\n",
      "length= 1\n",
      "width= 2\n",
      "height 3\n",
      "area= 22\n",
      "volume 6\n"
     ]
    }
   ],
   "source": [
    "class Box:\n",
    "    def __init__(self,x,y,z):\n",
    "        self.length=x\n",
    "        self.width=y\n",
    "        self.height=z\n",
    "        \n",
    "    def area(self):\n",
    "        area=2*(self.length*self.width+ self.width*self.height+self.height*self.length)\n",
    "        return area\n",
    "    def volume(self):\n",
    "        volume=self.length*self.width*self.height\n",
    "        return volume\n",
    "    def show(self):\n",
    "        print(\"length=\",self.length)\n",
    "        print(\"width=\",self.width)\n",
    "        print(\"height\",self.height)\n",
    "    \n",
    "x=int(input(\"enter the length:\"))\n",
    "y=int(input(\"enter the width:\"))\n",
    "z=int(input(\"enter the height:\"))\n",
    "a=Box(x,y,z)\n",
    "a.show()\n",
    "print(\"area=\",a.area())\n",
    "print(\"volume\",a.volume())"
   ]
  },
  {
   "cell_type": "code",
   "execution_count": null,
   "id": "9cc35a12",
   "metadata": {},
   "outputs": [],
   "source": []
  }
 ],
 "metadata": {
  "kernelspec": {
   "display_name": "Python 3 (ipykernel)",
   "language": "python",
   "name": "python3"
  },
  "language_info": {
   "codemirror_mode": {
    "name": "ipython",
    "version": 3
   },
   "file_extension": ".py",
   "mimetype": "text/x-python",
   "name": "python",
   "nbconvert_exporter": "python",
   "pygments_lexer": "ipython3",
   "version": "3.9.13"
  }
 },
 "nbformat": 4,
 "nbformat_minor": 5
}
